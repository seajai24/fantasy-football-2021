{
  "nbformat": 4,
  "nbformat_minor": 0,
  "metadata": {
    "colab": {
      "name": "Fantasy Football 2021.ipynb",
      "provenance": [],
      "collapsed_sections": [],
      "authorship_tag": "ABX9TyMO0q7+n0j0Y9PGr/DNNtOn",
      "include_colab_link": true
    },
    "kernelspec": {
      "name": "python3",
      "display_name": "Python 3"
    },
    "language_info": {
      "name": "python"
    }
  },
  "cells": [
    {
      "cell_type": "markdown",
      "metadata": {
        "id": "view-in-github",
        "colab_type": "text"
      },
      "source": [
        "<a href=\"https://colab.research.google.com/github/seajai24/fantasy-football-2021/blob/main/Fantasy_Football_2021.ipynb\" target=\"_parent\"><img src=\"https://colab.research.google.com/assets/colab-badge.svg\" alt=\"Open In Colab\"/></a>"
      ]
    },
    {
      "cell_type": "code",
      "metadata": {
        "id": "SamzrjLHoufw"
      },
      "source": [
        "import pandas as pd\n",
        "import numpy as np"
      ],
      "execution_count": null,
      "outputs": []
    },
    {
      "cell_type": "code",
      "metadata": {
        "id": "8TODamwKG1ix",
        "colab": {
          "base_uri": "https://localhost:8080/"
        },
        "outputId": "6f279709-c322-4a3c-8827-3774962a5540"
      },
      "source": [
        "from google.colab import drive\n",
        "drive.mount('drive')"
      ],
      "execution_count": null,
      "outputs": [
        {
          "output_type": "stream",
          "text": [
            "Mounted at drive\n"
          ],
          "name": "stdout"
        }
      ]
    },
    {
      "cell_type": "code",
      "metadata": {
        "id": "qyVdp3J-o1Md"
      },
      "source": [
        "espn = pd.read_csv(\"ESPN.csv\")\n",
        "fbbcalc = pd.read_csv(\"FBBCalc.csv\")\n",
        "ring = pd.read_csv(\"Ringer.csv\")\n",
        "br = pd.read_csv(\"BR.csv\")\n",
        "sportnews = pd.read_csv(\"SportingNews.csv\")\n",
        "fantasypros = pd.read_csv(\"FantasyPros.csv\")\n",
        "position = pd.read_csv(\"Positions.csv\")\n",
        "jamey = pd.read_csv(\"JameyCBS.csv\")\n",
        "dave = pd.read_csv(\"DaveCBS.csv\")\n",
        "heath = pd.read_csv(\"HeathCBS.csv\")\n",
        "pff = pd.read_csv(\"PFF.csv\")\n",
        "score = pd.read_csv(\"theScore.csv\")"
      ],
      "execution_count": null,
      "outputs": []
    },
    {
      "cell_type": "code",
      "metadata": {
        "id": "uxuLcn3kzblD"
      },
      "source": [
        "fantasypros['Player'] = fantasypros['Player'].str.rstrip()"
      ],
      "execution_count": null,
      "outputs": []
    },
    {
      "cell_type": "code",
      "metadata": {
        "id": "RYBK62ME8VYt"
      },
      "source": [
        "espn['ESPN Rank'] = espn['ESPN Rank'].astype(float)"
      ],
      "execution_count": null,
      "outputs": []
    },
    {
      "cell_type": "code",
      "metadata": {
        "id": "ehXHyxYufatV"
      },
      "source": [
        "initials = []\n",
        "for i in range(len(position['Player'])) :\n",
        "  name = position['Player'][i].partition(\" \")\n",
        "  first_init = name[0]\n",
        "  new_name = first_init[0] + \". \" + name[2]\n",
        "  initials.append({'Name': position['Player'][i], 'Player': new_name, 'Position': position['Position'][i]})\n",
        "inits = pd.DataFrame(initials)"
      ],
      "execution_count": null,
      "outputs": []
    },
    {
      "cell_type": "code",
      "metadata": {
        "id": "FkVIOjC0o6VC"
      },
      "source": [
        "inits_merge = pd.merge(left = inits, right = heath, how = 'left', on = ['Player', 'Position'])\n",
        "inits_merge2 = pd.merge(left = inits_merge, right = dave, how = 'left', on = ['Player', 'Position'])\n",
        "inits_merge3 = pd.merge(left = inits_merge2, right = jamey, how = 'left', on = ['Player', 'Position'])\n",
        "\n",
        "inits_merge3 = inits_merge3[['Name', 'Jamey CBS Rank', 'Dave CBS Rank', 'Heath CBS Rank']]\n",
        "inits_merge3 = inits_merge3.drop_duplicates(subset = 'Name')\n",
        "inits_merge3 = inits_merge3.reset_index(drop = True)\n",
        "inits_merge3.columns = ['Player', 'Jamey CBS Rank', 'Dave CBS Rank', 'Heath CBS Rank']"
      ],
      "execution_count": null,
      "outputs": []
    },
    {
      "cell_type": "code",
      "metadata": {
        "id": "S5lvslDOLwa2"
      },
      "source": [
        "#Fix messed up values from duplicates\n",
        "#AJ Brown\n",
        "inits_merge3.at[120, 'Jamey CBS Rank'] = 21\n",
        "inits_merge3.at[120, 'Dave CBS Rank'] = 22\n",
        "inits_merge3.at[120, 'Heath CBS Rank'] = 14\n",
        "\n",
        "#Antonio Brown\n",
        "inits_merge3.at[139, 'Jamey CBS Rank'] = 89\n",
        "inits_merge3.at[139, 'Dave CBS Rank'] = 77\n",
        "inits_merge3.at[139, 'Heath CBS Rank'] = 71\n",
        "\n",
        "#Jamaal Williams\n",
        "inits_merge3.at[86, 'Jamey CBS Rank'] = 97\n",
        "inits_merge3.at[86, 'Dave CBS Rank'] = 96\n",
        "inits_merge3.at[86, 'Heath CBS Rank'] = 84\n",
        "\n",
        "#JaVonte Williams\n",
        "inits_merge3.at[57, 'Jamey CBS Rank'] = 66\n",
        "inits_merge3.at[57, 'Dave CBS Rank'] = 69\n",
        "inits_merge3.at[57, 'Heath CBS Rank'] = 80\n",
        "\n",
        "#Damien Williams\n",
        "inits_merge3.at[76, 'Jamey CBS Rank'] = 180\n",
        "inits_merge3.at[76, 'Dave CBS Rank'] = 156\n",
        "inits_merge3.at[76, 'Heath CBS Rank'] = 187"
      ],
      "execution_count": null,
      "outputs": []
    },
    {
      "cell_type": "code",
      "metadata": {
        "id": "WETI7d-PkibK"
      },
      "source": [
        "r1 = pd.merge(left = espn, right = ring, how = 'left', left_on = 'Player', right_on = 'Player')\n",
        "r2 = pd.merge(left = r1, right = fbbcalc, how = 'left', left_on = 'Player', right_on = 'Player')\n",
        "r3 = pd.merge(left = r2, right = br, how = 'left', left_on = 'Player', right_on = 'Player')\n",
        "r4 = pd.merge(left = r3, right = sportnews, how = 'left', left_on = 'Player', right_on = 'Player')\n",
        "r5 = pd.merge(left = r4, right = fantasypros, how = 'left', left_on = 'Player', right_on = 'Player')\n",
        "r6 = pd.merge(left = r5, right = inits_merge3, how = 'left', left_on = 'Player', right_on = 'Player')\n",
        "r7 = pd.merge(left = r6, right = pff, how = 'left', left_on = 'Player', right_on = 'Player')\n",
        "r8 = pd.merge(left = r7, right = score, how = 'left', left_on = 'Player', right_on = 'Player')\n",
        "rank = pd.merge(left = r8, right = position, how = 'left', left_on = 'Player', right_on = 'Player')"
      ],
      "execution_count": null,
      "outputs": []
    },
    {
      "cell_type": "code",
      "metadata": {
        "id": "8lmwwdrsx_L3"
      },
      "source": [
        "rank['ADP'] = round(rank.mean(axis = 1),2)\n",
        "rank = rank.sort_values(by = 'ADP')\n",
        "rank = rank[['Player', 'Position', 'ESPN Rank', 'Ringer Rank', 'FBB Calc Rank', 'BR Rank', 'Sporting News Rank', 'Fantasy Pros Rank', 'Jamey CBS Rank', 'Dave CBS Rank', 'Heath CBS Rank', 'PFF Rank', 'theScore Rank', 'ADP']]\n",
        "rank = rank.reset_index(drop = True)"
      ],
      "execution_count": null,
      "outputs": []
    },
    {
      "cell_type": "code",
      "metadata": {
        "id": "9RfTHUL54kCb"
      },
      "source": [
        "rank['12 Team Round'] = 0\n",
        "rank['12 Team Pick'] = 0\n",
        "rank['10 Team Round'] = 0\n",
        "rank['10 Team Pick'] = 0\n",
        "for i in range(len(rank)) :\n",
        "  rank['12 Team Round'][i] = (i // 12) + 1\n",
        "  rank['12 Team Pick'][i] = (i+1) % 12\n",
        "  rank['10 Team Round'][i] = (i // 10) + 1\n",
        "  rank['10 Team Pick'][i] = (i+1) % 10\n",
        "\n",
        "rank['12 Team Pick'] = rank['12 Team Pick'].replace(0,12)\n",
        "rank['10 Team Pick'] = rank['10 Team Pick'].replace(0,10)"
      ],
      "execution_count": null,
      "outputs": []
    },
    {
      "cell_type": "code",
      "metadata": {
        "id": "VO4yjzJf_a6L"
      },
      "source": [
        "rb, wr, te, qb, k, dst = 0, 0, 0, 0, 0, 0\n",
        "rank['Position Rank'] = 'a'\n",
        "for i in range(len(rank)) :\n",
        "  if rank['Position'][i] == 'RB' :\n",
        "    rb = rb + 1\n",
        "    rank['Position Rank'][i] = 'RB{}'.format(rb)\n",
        "  elif rank['Position'][i] == 'WR' :\n",
        "    wr = wr + 1\n",
        "    rank['Position Rank'][i] = 'WR{}'.format(wr)\n",
        "  elif rank['Position'][i] == 'TE' :\n",
        "    te = te + 1\n",
        "    rank['Position Rank'][i] = 'TE{}'.format(te)\n",
        "  elif rank['Position'][i] == 'QB' :\n",
        "    qb = qb + 1\n",
        "    rank['Position Rank'][i] = 'QB{}'.format(qb)\n",
        "  elif rank['Position'][i] == 'K' :\n",
        "    k = k + 1\n",
        "    rank['Position Rank'][i] = 'K{}'.format(k)\n",
        "  elif rank['Position'][i] == 'D/ST' :\n",
        "    dst = dst + 1\n",
        "    rank['Position Rank'][i] = 'D/ST{}'.format(dst)\n",
        "  else :\n",
        "    rank['Position Rank'][i] = 'Unknown'"
      ],
      "execution_count": null,
      "outputs": []
    },
    {
      "cell_type": "code",
      "metadata": {
        "id": "m2WtthWjowqB"
      },
      "source": [
        "pd.set_option(\"display.max_rows\", None, \"display.max_columns\", None)\n",
        "rank.head(10)"
      ],
      "execution_count": null,
      "outputs": []
    },
    {
      "cell_type": "code",
      "metadata": {
        "id": "SJG_VGUlI3nP"
      },
      "source": [
        "#Find rows with NAs\n",
        "rank[rank.isnull().any(axis=1)]"
      ],
      "execution_count": null,
      "outputs": []
    },
    {
      "cell_type": "code",
      "metadata": {
        "id": "I02M5jWpCdeC"
      },
      "source": [
        "simple12 = rank[['Player', 'Position', 'ADP', '12 Team Round', '12 Team Pick', 'Position Rank']]"
      ],
      "execution_count": null,
      "outputs": []
    },
    {
      "cell_type": "code",
      "metadata": {
        "id": "8PvD7DMZBbHy"
      },
      "source": [
        "simple12[(simple12['12 Team Round'] >= 4) & (simple12['12 Team Round'] <= 8)]"
      ],
      "execution_count": null,
      "outputs": []
    },
    {
      "cell_type": "code",
      "metadata": {
        "id": "N_YrtXUBs37B"
      },
      "source": [
        "rank.to_csv('Fantasy_Football_2021_Draft_Rank.csv', index = False)\n",
        "!cp Fantasy_Football_2021_Draft_Rank.csv \"drive/My Drive/\""
      ],
      "execution_count": null,
      "outputs": []
    },
    {
      "cell_type": "code",
      "metadata": {
        "id": "ufDJCR1PV_Sd"
      },
      "source": [
        "simple12.to_csv('Simple_12_Team_Rankings.csv', index = False)\n",
        "!cp Simple_12_Team_Rankings.csv \"drive/My Drive/\""
      ],
      "execution_count": null,
      "outputs": []
    },
    {
      "cell_type": "code",
      "metadata": {
        "id": "yaQDo-3ksXGI"
      },
      "source": [
        ""
      ],
      "execution_count": null,
      "outputs": []
    }
  ]
}